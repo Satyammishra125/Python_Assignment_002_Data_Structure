{
 "cells": [
  {
   "cell_type": "markdown",
   "metadata": {},
   "source": [
    "# Assignment:- Data Structure by Satyam"
   ]
  },
  {
   "cell_type": "markdown",
   "metadata": {},
   "source": [
    "## Question No.1 Discuss string slicing and provide examples.\n",
    "String slicing is a powerful feature in many programming languages that allows you to extract a portion of a string based on specified indices. This is particularly useful for manipulating and analyzing text data. In Python, string slicing is straightforward and flexible.\n",
    "### Syntax\n",
    "The general syntax for string slicing in Python is:\n",
    "\n",
    "string[start:stop:step]\n",
    "\n",
    "-> start: The index of the first character you want to include in the slice. If omitted, it defaults to the beginning of the string.\n",
    "\n",
    "-> stop : The index of the first character you want to exclude from the slice. If omitted, it defaults to the end of the string.\n",
    "\n",
    "-> step : The interval between characters to include. If omitted, it defaults to 1.\n",
    "\n",
    "Examples: "
   ]
  },
  {
   "cell_type": "code",
   "execution_count": 1,
   "metadata": {},
   "outputs": [
    {
     "name": "stdout",
     "output_type": "stream",
     "text": [
      "Hello\n"
     ]
    }
   ],
   "source": [
    "# 1.Basic Slicing \n",
    "text = \"Hello, World!\"\n",
    "slice1 = text[0:5]  # Extracts from index 0 to 4\n",
    "print(slice1)  # Output: Hello\n",
    "\n"
   ]
  },
  {
   "cell_type": "code",
   "execution_count": 2,
   "metadata": {},
   "outputs": [
    {
     "name": "stdout",
     "output_type": "stream",
     "text": [
      "World!\n",
      "Hello\n"
     ]
    }
   ],
   "source": [
    "# 2.Omitting Indices\n",
    "text = \"Hello, World!\"\n",
    "slice2 = text[7:]  # From index 7 to the end\n",
    "print(slice2)  # Output: World!\n",
    "\n",
    "slice3 = text[:5]  # From the start to index 4\n",
    "print(slice3)  # Output: Hello\n"
   ]
  },
  {
   "cell_type": "code",
   "execution_count": 3,
   "metadata": {},
   "outputs": [
    {
     "name": "stdout",
     "output_type": "stream",
     "text": [
      "Hlo ol!\n",
      "eoW\n"
     ]
    }
   ],
   "source": [
    "# 3.Using a Step\n",
    "text = \"Hello, World!\"\n",
    "slice4 = text[::2]  # Every second character\n",
    "print(slice4)  # Output: Hlo ol!\n",
    "\n",
    "slice5 = text[1:10:3]  # From index 1 to 9, every third character\n",
    "print(slice5)  # Output: eoW\n"
   ]
  },
  {
   "cell_type": "code",
   "execution_count": 4,
   "metadata": {},
   "outputs": [
    {
     "name": "stdout",
     "output_type": "stream",
     "text": [
      "World\n",
      "!dlroW ,olleH\n"
     ]
    }
   ],
   "source": [
    "# 4.Negative Indices\n",
    "text = \"Hello, World!\"\n",
    "slice6 = text[-6:-1]  # From index -6 to -2\n",
    "print(slice6)  # Output: World\n",
    "\n",
    "slice7 = text[::-1]  # Reverses the string\n",
    "print(slice7)  # Output: !dlroW ,olleH\n"
   ]
  },
  {
   "cell_type": "markdown",
   "metadata": {},
   "source": [
    "### Explanation:\n",
    "-> Positive Indices: Start counting from 0. For example, text[0] is 'H', and text[7] is 'W'.\n",
    "\n",
    "-> Negative Indices: Start counting from -1 for the last character. For example, text[-1] is '!', and text[-6] is 'W'.\n",
    "\n",
    "\n",
    "-> Step: If you include a step value, it controls the interval between characters in the slice. For instance, text[::2] skips every other character.\n",
    "\n",
    "\n",
    "String slicing is not limited to Python; many other languages have similar concepts, though the syntax might differ. It’s a versatile tool for working with substrings, manipulating text, and more."
   ]
  },
  {
   "cell_type": "markdown",
   "metadata": {},
   "source": [
    "## Question No. 2 Explain the key features of lists in Python.\n",
    "Lists in Python are versatile and powerful data structures that are used to store ordered collections of items. Here are some key features and characteristics of Python lists:\n",
    "\n",
    "1. Ordered: Lists maintain the order of elements as they are added. This means that the position of elements is preserved, and you can access items by their index."
   ]
  },
  {
   "cell_type": "code",
   "execution_count": 61,
   "metadata": {},
   "outputs": [
    {
     "name": "stdout",
     "output_type": "stream",
     "text": [
      "20\n"
     ]
    }
   ],
   "source": [
    "# 1. Ordered\n",
    "my_list = [10, 20, 30]\n",
    "print(my_list[1])  # Output: 20\n"
   ]
  },
  {
   "cell_type": "markdown",
   "metadata": {},
   "source": [
    "2. Mutable: Lists are mutable, which means you can modify their contents after creation. You can change, add, or remove elements."
   ]
  },
  {
   "cell_type": "code",
   "execution_count": 62,
   "metadata": {},
   "outputs": [
    {
     "name": "stdout",
     "output_type": "stream",
     "text": [
      "[10, 25, 30]\n",
      "[10, 25, 30, 40]\n",
      "[25, 30, 40]\n"
     ]
    }
   ],
   "source": [
    "# 2.Mutable\n",
    "my_list = [10, 20, 30]\n",
    "my_list[1] = 25  # Change value at index 1\n",
    "print(my_list)  # Output: [10, 25, 30]\n",
    "\n",
    "my_list.append(40)  # Add an element to the end\n",
    "print(my_list)  # Output: [10, 25, 30, 40]\n",
    "\n",
    "del my_list[0]  # Remove the element at index 0\n",
    "print(my_list)  # Output: [25, 30, 40]\n"
   ]
  },
  {
   "cell_type": "markdown",
   "metadata": {},
   "source": [
    "3. Dyanamic: Lists are dynamic in size, meaning you can grow or shrink them as needed. You don’t need to declare their size beforehand."
   ]
  },
  {
   "cell_type": "code",
   "execution_count": 63,
   "metadata": {},
   "outputs": [
    {
     "name": "stdout",
     "output_type": "stream",
     "text": [
      "[1, 2, 3, 4, 5]\n"
     ]
    }
   ],
   "source": [
    "# 3.Dyanamic\n",
    "my_list = [1, 2, 3]\n",
    "my_list.append(4)\n",
    "my_list.append(5)\n",
    "print(my_list)  # Output: [1, 2, 3, 4, 5]"
   ]
  },
  {
   "cell_type": "markdown",
   "metadata": {},
   "source": [
    "4. Heterogeneous: Lists can contain elements of different types, including numbers, strings, other lists, and objects."
   ]
  },
  {
   "cell_type": "code",
   "execution_count": 64,
   "metadata": {},
   "outputs": [
    {
     "name": "stdout",
     "output_type": "stream",
     "text": [
      "Hello\n",
      "3\n"
     ]
    }
   ],
   "source": [
    "# 4. Heterogenous\n",
    "my_list = [1, \"Hello\", [2, 3], 4.5]\n",
    "print(my_list[1])  # Output: Hello\n",
    "print(my_list[2][1])  # Output: 3\n"
   ]
  },
  {
   "cell_type": "markdown",
   "metadata": {},
   "source": [
    "5. Indexed: Elements in a list are accessed by their index, with indexing starting from 0."
   ]
  },
  {
   "cell_type": "code",
   "execution_count": 65,
   "metadata": {},
   "outputs": [
    {
     "name": "stdout",
     "output_type": "stream",
     "text": [
      "10\n",
      "30\n"
     ]
    }
   ],
   "source": [
    "#5.Indexed \n",
    "my_list = [10, 20, 30]\n",
    "print(my_list[0])  # Output: 10\n",
    "print(my_list[-1]) # Output: 30 (last element)\n"
   ]
  },
  {
   "cell_type": "markdown",
   "metadata": {},
   "source": [
    "6. Slicing: You can extract sublists using slicing syntax, which allows for more flexible access to portions of a list."
   ]
  },
  {
   "cell_type": "code",
   "execution_count": 66,
   "metadata": {},
   "outputs": [
    {
     "name": "stdout",
     "output_type": "stream",
     "text": [
      "[2, 3, 4]\n"
     ]
    }
   ],
   "source": [
    "# 6.Slicing\n",
    "my_list = [1, 2, 3, 4, 5]\n",
    "sublist = my_list[1:4]  # Elements from index 1 to 3\n",
    "print(sublist)  # Output: [2, 3, 4]\n"
   ]
  },
  {
   "cell_type": "markdown",
   "metadata": {},
   "source": [
    "7. Iterable: Lists are iterable, meaning you can loop through them using loops like for."
   ]
  },
  {
   "cell_type": "code",
   "execution_count": 67,
   "metadata": {},
   "outputs": [
    {
     "name": "stdout",
     "output_type": "stream",
     "text": [
      "1\n",
      "2\n",
      "3\n",
      "4\n",
      "5\n"
     ]
    }
   ],
   "source": [
    "# 7.Iterable\n",
    "my_list = [1, 2, 3, 4, 5]\n",
    "for item in my_list:\n",
    "    print(item)\n"
   ]
  },
  {
   "cell_type": "markdown",
   "metadata": {},
   "source": [
    "8. Methods and Functions:Lists come with a variety of built-in methods and functions for manipulation, such as append(), extend(), pop(), remove(), sort(), and reverse()."
   ]
  },
  {
   "cell_type": "code",
   "execution_count": 68,
   "metadata": {},
   "outputs": [
    {
     "name": "stdout",
     "output_type": "stream",
     "text": [
      "[1, 1, 3, 4, 5]\n",
      "[5, 4, 3, 1, 1]\n"
     ]
    }
   ],
   "source": [
    "# 8. Methods and Function\n",
    "my_list = [3, 1, 4, 1, 5]\n",
    "my_list.sort()  # Sorts the list in place\n",
    "print(my_list)  # Output: [1, 1, 3, 4, 5]\n",
    "\n",
    "my_list.reverse()  # Reverses the list in place\n",
    "print(my_list)  # Output: [5, 4, 3, 1, 1]\n"
   ]
  },
  {
   "cell_type": "markdown",
   "metadata": {},
   "source": [
    "9. Nested Lists:Lists can contain other lists, allowing for the creation of multi-dimensional arrays or matrices."
   ]
  },
  {
   "cell_type": "code",
   "execution_count": 69,
   "metadata": {},
   "outputs": [
    {
     "name": "stdout",
     "output_type": "stream",
     "text": [
      "6\n"
     ]
    }
   ],
   "source": [
    "matrix = [\n",
    "    [1, 2, 3],\n",
    "    [4, 5, 6],\n",
    "    [7, 8, 9]\n",
    "]\n",
    "print(matrix[1][2])  # Output: 6 (element in the second row, third column)\n"
   ]
  },
  {
   "cell_type": "markdown",
   "metadata": {},
   "source": [
    "10. List Comprehensions: Python supports list comprehensions, which are a concise way to create lists based on existing lists or other iterable structures."
   ]
  },
  {
   "cell_type": "code",
   "execution_count": 70,
   "metadata": {},
   "outputs": [
    {
     "name": "stdout",
     "output_type": "stream",
     "text": [
      "[0, 1, 4, 9, 16, 25, 36, 49, 64, 81]\n"
     ]
    }
   ],
   "source": [
    "# 10. List Comprehensions\n",
    "squares = [x**2 for x in range(10)]\n",
    "print(squares)  # Output: [0, 1, 4, 9, 16, 25, 36, 49, 64, 81]\n"
   ]
  },
  {
   "cell_type": "markdown",
   "metadata": {},
   "source": [
    "Lists are one of the most commonly used data structures in Python due to their flexibility and ease of use."
   ]
  },
  {
   "cell_type": "markdown",
   "metadata": {},
   "source": [
    "## Question No.3 Describe how to access, modify, and delete elements in a list with examples.\n",
    "1. Accessing Elements: To access elements in a list, you use indexing. Python uses zero-based indexing, so the first element of a list is at index 0, the second element is at index 1, and so on.\n",
    "\n",
    "Example:"
   ]
  },
  {
   "cell_type": "code",
   "execution_count": 71,
   "metadata": {},
   "outputs": [
    {
     "name": "stdout",
     "output_type": "stream",
     "text": [
      "apple\n",
      "banana\n",
      "cherry\n"
     ]
    }
   ],
   "source": [
    "#1. Accessing Elements\n",
    "my_list = ['apple', 'banana', 'cherry']\n",
    "\n",
    "# Accessing the first element\n",
    "print(my_list[0])  # Output: apple\n",
    "\n",
    "# Accessing the second element\n",
    "print(my_list[1])  # Output: banana\n",
    "\n",
    "# Accessing the last element using negative indexing\n",
    "print(my_list[-1])  # Output: cherry\n"
   ]
  },
  {
   "cell_type": "markdown",
   "metadata": {},
   "source": [
    "2. Modifying Elements:To modify an element in a list, you access it using its index and then assign a new value to it.\n",
    "\n",
    "Example:"
   ]
  },
  {
   "cell_type": "code",
   "execution_count": 72,
   "metadata": {},
   "outputs": [
    {
     "name": "stdout",
     "output_type": "stream",
     "text": [
      "['apple', 'blueberry', 'cherry']\n"
     ]
    }
   ],
   "source": [
    "my_list = ['apple', 'banana', 'cherry']\n",
    "\n",
    "# Changing the second element\n",
    "my_list[1] = 'blueberry'\n",
    "\n",
    "print(my_list)  # Output: ['apple', 'blueberry', 'cherry']\n"
   ]
  },
  {
   "cell_type": "markdown",
   "metadata": {},
   "source": [
    "3. Deleting Elements: You can delete elements from a list using the del statement, the pop() method, or the remove() method.\n",
    "\n",
    "Example:"
   ]
  },
  {
   "cell_type": "code",
   "execution_count": 73,
   "metadata": {},
   "outputs": [
    {
     "name": "stdout",
     "output_type": "stream",
     "text": [
      "['apple', 'cherry']\n"
     ]
    }
   ],
   "source": [
    "#3.1. Using del\n",
    "my_list = ['apple', 'banana', 'cherry']\n",
    "\n",
    "# Deleting the second element\n",
    "del my_list[1]\n",
    "\n",
    "print(my_list)  # Output: ['apple', 'cherry']\n"
   ]
  },
  {
   "cell_type": "markdown",
   "metadata": {},
   "source": [
    "Using pop(): The pop() method removes an element at a specific index and returns it. If no index is specified, it removes and returns the last element."
   ]
  },
  {
   "cell_type": "code",
   "execution_count": 74,
   "metadata": {},
   "outputs": [
    {
     "name": "stdout",
     "output_type": "stream",
     "text": [
      "['apple', 'cherry']\n"
     ]
    }
   ],
   "source": [
    "#3.2. Using pop()\n",
    "my_list = ['apple', 'banana', 'cherry']\n",
    "\n",
    "# Removing 'banana' from the list\n",
    "my_list.remove('banana')\n",
    "\n",
    "print(my_list)  # Output: ['apple', 'cherry']\n"
   ]
  },
  {
   "cell_type": "markdown",
   "metadata": {},
   "source": [
    "Using remove(): The remove() method removes the first occurrence of a specified value. If the value is not found, it raises a ValueError."
   ]
  },
  {
   "cell_type": "code",
   "execution_count": 75,
   "metadata": {},
   "outputs": [
    {
     "name": "stdout",
     "output_type": "stream",
     "text": [
      "['apple', 'cherry']\n"
     ]
    }
   ],
   "source": [
    "#using remove()\n",
    "my_list = ['apple', 'banana', 'cherry']\n",
    "\n",
    "# Removing 'banana' from the list\n",
    "my_list.remove('banana')\n",
    "\n",
    "print(my_list)  # Output: ['apple', 'cherry']"
   ]
  },
  {
   "cell_type": "markdown",
   "metadata": {},
   "source": [
    "### Summary\n",
    "-> Accessing elements: Use my_list[index] where index can be positive or negative.\n",
    "-> Modifying elements: Use my_list[index] = new_value.\n",
    "-> Deleting elements: Use del my_list[index], my_list.pop(index), or my_list.remove(value).\n",
    "\n",
    "Each method provides a way to handle list elements depending on what you need to do with them!"
   ]
  },
  {
   "cell_type": "markdown",
   "metadata": {},
   "source": [
    "## Question No.4 Compare and contrast tuples and lists with examples."
   ]
  },
  {
   "cell_type": "markdown",
   "metadata": {},
   "source": [
    "Tuples and lists are both data structures in Python that can hold collections of items. They share some similarities but have distinct differences in their behavior and use cases. Here’s a comparison:\n",
    "### Similarities\n",
    "1. Indexing: Both tuples and lists support indexing, meaning you can access elements using their position in the collection."
   ]
  },
  {
   "cell_type": "code",
   "execution_count": 76,
   "metadata": {},
   "outputs": [
    {
     "name": "stdout",
     "output_type": "stream",
     "text": [
      "1\n",
      "1\n"
     ]
    }
   ],
   "source": [
    "my_list = [1, 2, 3]\n",
    "my_tuple = (1, 2, 3)\n",
    "\n",
    "print(my_list[0])  # Output: 1\n",
    "print(my_tuple[0])  # Output: 1\n"
   ]
  },
  {
   "cell_type": "markdown",
   "metadata": {},
   "source": [
    "2. Iteration: Both can be iterated over in loops."
   ]
  },
  {
   "cell_type": "code",
   "execution_count": 77,
   "metadata": {},
   "outputs": [
    {
     "name": "stdout",
     "output_type": "stream",
     "text": [
      "1\n",
      "2\n",
      "3\n",
      "1\n",
      "2\n",
      "3\n"
     ]
    }
   ],
   "source": [
    "for item in my_list:\n",
    "    print(item)\n",
    "\n",
    "for item in my_tuple:\n",
    "    print(item)\n"
   ]
  },
  {
   "cell_type": "markdown",
   "metadata": {},
   "source": [
    "3. Slicing: Both support slicing to access a subset of elements."
   ]
  },
  {
   "cell_type": "code",
   "execution_count": 78,
   "metadata": {},
   "outputs": [
    {
     "name": "stdout",
     "output_type": "stream",
     "text": [
      "[2, 3]\n",
      "(2, 3)\n"
     ]
    }
   ],
   "source": [
    "print(my_list[1:3])  # Output: [2, 3]\n",
    "print(my_tuple[1:3])  # Output: (2, 3)\n"
   ]
  },
  {
   "cell_type": "markdown",
   "metadata": {},
   "source": [
    "### Differences\n",
    "1. Mutability: \n",
    "\n",
    "-> Lists are mutable, meaning you can change their content (add, remove, or modify elements).\n",
    "\n",
    "-> Tuples are immutable, meaning once they are created, their content cannot be changed.\n",
    "\n",
    "Example:"
   ]
  },
  {
   "cell_type": "code",
   "execution_count": 79,
   "metadata": {},
   "outputs": [
    {
     "name": "stdout",
     "output_type": "stream",
     "text": [
      "[1, 20, 3]\n"
     ]
    }
   ],
   "source": [
    "my_list = [1, 2, 3]\n",
    "my_list[1] = 20  # Modifying an element\n",
    "print(my_list)  # Output: [1, 20, 3]\n",
    "\n",
    "my_tuple = (1, 2, 3)\n",
    "# my_tuple[1] = 20  # This will raise a TypeError\n"
   ]
  },
  {
   "cell_type": "markdown",
   "metadata": {},
   "source": [
    "2. Methods:\n",
    "\n",
    "-> Lists have many built-in methods for modifying the list, such as append(), remove(), extend(), and pop().\n",
    "\n",
    "-> Tuples have fewer methods since they are immutable. They support methods like count() and index().\n",
    "\n",
    "Example:"
   ]
  },
  {
   "cell_type": "code",
   "execution_count": 80,
   "metadata": {},
   "outputs": [
    {
     "name": "stdout",
     "output_type": "stream",
     "text": [
      "[1, 2, 3, 4]\n"
     ]
    }
   ],
   "source": [
    "my_list = [1, 2, 3]\n",
    "my_list.append(4)\n",
    "print(my_list)  # Output: [1, 2, 3, 4]\n",
    "\n",
    "my_tuple = (1, 2, 3)\n",
    "# my_tuple.append(4)  # This will raise an AttributeError\n"
   ]
  },
  {
   "cell_type": "markdown",
   "metadata": {},
   "source": [
    "3. Perfomance:\n",
    "\n",
    "-> Tuples are generally faster and use less memory than lists because they are immutable. This can be beneficial in cases where you need a fixed-size, constant data structure.\n",
    "\n",
    "-> Lists are more flexible but come with overhead due to their dynamic nature.\n",
    "\n",
    "4. Use Cases:\n",
    "\n",
    "-> Lists are typically used when you need a collection of items that might change during the program's execution.\n",
    "\n",
    "-> Tuples are used for fixed collections of items. They are often used to represent records or fixed sets of values, and can be used as dictionary keys because they are hashable.\n",
    "\n",
    "Example:\n"
   ]
  },
  {
   "cell_type": "code",
   "execution_count": 81,
   "metadata": {},
   "outputs": [
    {
     "name": "stdout",
     "output_type": "stream",
     "text": [
      "['apple', 'banana', 'cherry', 'date']\n",
      "(40.7128, 74.006)\n"
     ]
    }
   ],
   "source": [
    "# Using a list\n",
    "fruits = ['apple', 'banana', 'cherry']\n",
    "fruits.append('date')\n",
    "print(fruits)  # Output: ['apple', 'banana', 'cherry', 'date']\n",
    "\n",
    "# Using a tuple\n",
    "coordinates = (40.7128, 74.0060)  # Latitude and Longitude\n",
    "print(coordinates)  # Output: (40.7128, 74.0060)\n"
   ]
  },
  {
   "cell_type": "markdown",
   "metadata": {},
   "source": [
    "### Summary\n",
    "-> Lists: Mutable, dynamic size, many built-in methods, generally used for collections of items that can change.\n",
    "\n",
    "-> Tuples: Immutable, fixed size, fewer built-in methods, generally used for fixed collections of items or as keys in dictionaries.\n",
    "\n",
    "Understanding these differences helps you choose the right data structure for your specific needs."
   ]
  },
  {
   "cell_type": "markdown",
   "metadata": {},
   "source": [
    "## Question No.5  Describe the key features of sets and provide examples of their use.\n",
    "Sets are a built-in data structure in Python that represent collections of unique elements. They are useful for various tasks, including removing duplicates, performing mathematical set operations, and membership testing. Here are the key features of sets along with examples of their use:\n",
    "\n",
    "### Key Features of Sets\n",
    "1. Uniqueness: Sets automatically enforce the uniqueness of their elements. Duplicate elements are not allowed in a set.\n",
    "\n",
    "2. Unordered: Sets are unordered collections, which means that the elements do not have a specific order, and you cannot access elements by index.\n",
    "\n",
    "3. Mutable: Sets are mutable, meaning you can add or remove elements after the set has been created. However, the elements themselves must be immutable (e.g., numbers, strings, tuples).\n",
    "\n",
    "4. Efficient Membership Testing: Sets are optimized for fast membership testing and checking for the presence of an element.\n",
    "\n",
    "5. Mathematical Set Operations: Sets support mathematical operations such as union, intersection, difference, and symmetric difference.\n",
    "\n",
    "#### Examples of Using Sets"
   ]
  },
  {
   "cell_type": "code",
   "execution_count": 82,
   "metadata": {},
   "outputs": [
    {
     "name": "stdout",
     "output_type": "stream",
     "text": [
      "{'date', 'apple', 'cherry'}\n",
      "True\n",
      "False\n"
     ]
    }
   ],
   "source": [
    "# 1.Creating and Using Sets\n",
    "# Creating a set\n",
    "fruits = {'apple', 'banana', 'cherry'}\n",
    "\n",
    "# Adding an element\n",
    "fruits.add('date')\n",
    "\n",
    "# Removing an element\n",
    "fruits.remove('banana')  # Raises KeyError if the element is not found\n",
    "# Alternatively, you can use discard() which does not raise an error\n",
    "fruits.discard('banana')\n",
    "\n",
    "print(fruits)  # Output: {'apple', 'date', 'cherry'}\n",
    "\n",
    "# Checking membership\n",
    "print('apple' in fruits)  # Output: True\n",
    "print('banana' in fruits)  # Output: False\n"
   ]
  },
  {
   "cell_type": "markdown",
   "metadata": {},
   "source": [
    "2. Removing Duplicates\n",
    "\n",
    "Sets are often used to remove duplicate elements from a list."
   ]
  },
  {
   "cell_type": "code",
   "execution_count": 83,
   "metadata": {},
   "outputs": [
    {
     "name": "stdout",
     "output_type": "stream",
     "text": [
      "{1, 2, 3, 4, 5}\n"
     ]
    }
   ],
   "source": [
    "# 2. Removing Duplicates\n",
    "numbers = [1, 2, 2, 3, 4, 4, 5]\n",
    "unique_numbers = set(numbers)\n",
    "print(unique_numbers)  # Output: {1, 2, 3, 4, 5}\n"
   ]
  },
  {
   "cell_type": "markdown",
   "metadata": {},
   "source": [
    "3. Set Operations\n",
    "\n",
    "-> Union: Combines elements from two sets, excluding duplicates.\n",
    "\n",
    "-> Intersection: Returns elements that are common to both sets.\n",
    "\n",
    "->Difference: Returns elements present in the first set but not in the second.\n",
    "\n",
    "-> Symmetric Difference: Returns elements that are in either of the sets but not in both."
   ]
  },
  {
   "cell_type": "code",
   "execution_count": 84,
   "metadata": {},
   "outputs": [
    {
     "name": "stdout",
     "output_type": "stream",
     "text": [
      "{1, 2, 3, 4, 5, 6}\n",
      "{3, 4}\n",
      "{1, 2}\n",
      "{1, 2, 5, 6}\n"
     ]
    }
   ],
   "source": [
    "# 3. Set Operations \n",
    "set1 = {1, 2, 3, 4}\n",
    "set2 = {3, 4, 5, 6}\n",
    "\n",
    "# Union\n",
    "print(set1 | set2)  # Output: {1, 2, 3, 4, 5, 6}\n",
    "\n",
    "# Intersection\n",
    "print(set1 & set2)  # Output: {3, 4}\n",
    "\n",
    "# Difference\n",
    "print(set1 - set2)  # Output: {1, 2}\n",
    "\n",
    "# Symmetric Difference\n",
    "print(set1 ^ set2)  # Output: {1, 2, 5, 6}\n"
   ]
  },
  {
   "cell_type": "markdown",
   "metadata": {},
   "source": [
    "4. Set Comprehensions\n",
    "\n",
    "Similar to list comprehensions, set comprehensions provide a concise way to create sets."
   ]
  },
  {
   "cell_type": "code",
   "execution_count": 85,
   "metadata": {},
   "outputs": [
    {
     "name": "stdout",
     "output_type": "stream",
     "text": [
      "{0, 1, 4, 9, 16, 25}\n"
     ]
    }
   ],
   "source": [
    "# Set Comprehensions\n",
    "squares = {x**2 for x in range(6)}\n",
    "print(squares)  # Output: {0, 1, 4, 9, 16, 25}\n"
   ]
  },
  {
   "cell_type": "markdown",
   "metadata": {},
   "source": [
    "5. Sets as Dictionary Keys\n",
    "\n",
    "Since sets themselves are mutable and not hashable, they cannot be used as dictionary keys. However, tuples, which are immutable, can be used as dictionary keys and sets of tuples are also possible."
   ]
  },
  {
   "cell_type": "code",
   "execution_count": 86,
   "metadata": {},
   "outputs": [
    {
     "name": "stdout",
     "output_type": "stream",
     "text": [
      "{(40.7128, -74.006), (34.0522, -118.2437)}\n"
     ]
    }
   ],
   "source": [
    "# Sets as Dictionary Keys \n",
    "# Tuples can be used as dictionary keys\n",
    "location = {(40.7128, -74.0060): 'New York', (34.0522, -118.2437): 'Los Angeles'}\n",
    "\n",
    "# Sets of tuples\n",
    "locations = { (40.7128, -74.0060), (34.0522, -118.2437) }\n",
    "print(locations)  # Output: {(40.7128, -74.0060), (34.0522, -118.2437)}\n"
   ]
  },
  {
   "cell_type": "markdown",
   "metadata": {},
   "source": [
    "### Summary\n",
    "\n",
    "-> Uniqueness: Sets contain only unique elements.\n",
    "\n",
    "-> Unordered: The order of elements in a set is not guaranteed.\n",
    "\n",
    "-> Mutable: You can modify the set after its creation.\n",
    "\n",
    "-> Efficient Membership Testing: Sets are optimized for quick lookups.\n",
    "\n",
    "-> Mathematical Operations: Sets support union, intersection, difference, and symmetric difference.\n",
    "\n",
    "\n",
    "Sets are particularly useful for operations that involve unique elements and mathematical set theory, as well as for improving performance in membership tests and eliminating duplicates from collections."
   ]
  },
  {
   "cell_type": "markdown",
   "metadata": {},
   "source": [
    "## Question No.6  Discuss the use cases of tuples and sets in Python programming.\n",
    "Tuples and sets serve distinct purposes in Python programming, each with its own set of use cases and advantages. Here’s a detailed discussion of their use cases:\n",
    "\n",
    "#### Tuples\n",
    "**1. Immutable Collections:\n",
    "\n",
    "-> Use Case: When you need a collection of items that should not be changed after creation.\n",
    "\n",
    "Example: Storing fixed configuration settings, coordinates, or records that shouldn't be modified.\n"
   ]
  },
  {
   "cell_type": "code",
   "execution_count": 87,
   "metadata": {},
   "outputs": [],
   "source": [
    "coordinates = (40.7128, 74.0060)  # Latitude and Longitude for New York"
   ]
  },
  {
   "cell_type": "markdown",
   "metadata": {},
   "source": [
    "**2. Dictionary Keys:\n",
    "\n",
    "-> Use Case: When you need to use composite keys in dictionaries. Since tuples are immutable, they can be used as dictionary keys, unlike lists.\n",
    "\n",
    "-> Example: Representing multi-dimensional coordinates or composite keys in data storage."
   ]
  },
  {
   "cell_type": "code",
   "execution_count": 88,
   "metadata": {},
   "outputs": [],
   "source": [
    "location_info = {\n",
    "    (40.7128, -74.0060): 'New York',\n",
    "    (34.0522, -118.2437): 'Los Angeles'\n",
    "}"
   ]
  },
  {
   "cell_type": "markdown",
   "metadata": {},
   "source": [
    "**3. Function Return Values:\n",
    "\n",
    "-> Use Case: Returning multiple values from a function. Tuples are often used to return multiple pieces of information in a single return statement.\n",
    "\n",
    "-> Example: Returning both the result and status of a computation."
   ]
  },
  {
   "cell_type": "code",
   "execution_count": 89,
   "metadata": {},
   "outputs": [],
   "source": [
    "def divide(a, b):\n",
    "    if b == 0:\n",
    "        return None, 'Cannot divide by zero'\n",
    "    return a / b, 'Success'\n",
    "\n",
    "result, status = divide(10, 2)\n"
   ]
  },
  {
   "cell_type": "markdown",
   "metadata": {},
   "source": [
    "**4. Packing and Unpacking:\n",
    "\n",
    "-> Use Case: When you want to unpack elements from a tuple into separate variables.\n",
    "\n",
    "-> Example: Unpacking tuples in loops or function arguments."
   ]
  },
  {
   "cell_type": "code",
   "execution_count": 90,
   "metadata": {},
   "outputs": [],
   "source": [
    "point = (2, 3)\n",
    "x, y = point"
   ]
  },
  {
   "cell_type": "markdown",
   "metadata": {},
   "source": [
    "**5. Data Integrity:\n",
    "\n",
    "-> Use Case: When you need to ensure that the data remains constant and does not change throughout the program.\n",
    "\n",
    "-> Example: Constants or fixed data structures used in algorithms."
   ]
  },
  {
   "cell_type": "code",
   "execution_count": 91,
   "metadata": {},
   "outputs": [],
   "source": [
    "COLOR_RED = (255, 0, 0)  # RGB value for red\\"
   ]
  },
  {
   "cell_type": "markdown",
   "metadata": {},
   "source": [
    "#### Sets\n",
    "\n",
    "**1. Removing Duplicates:\n",
    "\n",
    "-> Use Case: When you need to ensure that a collection contains only unique elements.\n",
    "\n",
    "-> Example: Removing duplicate items from a list."
   ]
  },
  {
   "cell_type": "code",
   "execution_count": 92,
   "metadata": {},
   "outputs": [],
   "source": [
    "numbers = [1, 2, 2, 3, 4, 4, 5]\n",
    "unique_numbers = set(numbers)"
   ]
  },
  {
   "cell_type": "markdown",
   "metadata": {},
   "source": [
    "**2. Membership Testing:\n",
    "\n",
    "-> Use Case: When you need to perform fast membership tests to check if an element is in a collection.\n",
    "\n",
    "-> Example: Checking if a user ID exists in a set of registered IDs."
   ]
  },
  {
   "cell_type": "code",
   "execution_count": 93,
   "metadata": {},
   "outputs": [],
   "source": [
    "registered_users = {'alice', 'bob', 'carol'}\n",
    "is_registered = 'bob' in registered_users  # Fast membership test"
   ]
  },
  {
   "cell_type": "markdown",
   "metadata": {},
   "source": [
    "**3. Mathematical Set Operations:\n",
    "\n",
    "-> Use Case: Performing operations such as union, intersection, and difference.\n",
    "\n",
    "-> Example: Finding common elements between two sets or combining multiple sets."
   ]
  },
  {
   "cell_type": "code",
   "execution_count": 94,
   "metadata": {},
   "outputs": [],
   "source": [
    "set_a = {1, 2, 3}\n",
    "set_b = {3, 4, 5}\n",
    "\n",
    "# Intersection\n",
    "common_elements = set_a & set_b  # Output: {3}\n",
    "\n",
    "# Union\n",
    "all_elements = set_a | set_b  # Output: {1, 2, 3, 4, 5}\n",
    "\n",
    "# Difference\n",
    "unique_to_a = set_a - set_b  # Output: {1, 2}\n"
   ]
  },
  {
   "cell_type": "markdown",
   "metadata": {},
   "source": [
    "**4. Set Operations in Algorithms:\n",
    "\n",
    "-> Use Case: Leveraging sets in algorithms that require fast lookups, such as filtering elements or checking for duplicates.\n",
    "\n",
    "-> Example: Removing duplicate entries from a dataset or performing set-based queries."
   ]
  },
  {
   "cell_type": "code",
   "execution_count": 95,
   "metadata": {},
   "outputs": [],
   "source": [
    "elements = [1, 2, 3, 3, 4, 4, 5]\n",
    "unique_elements = set(elements)"
   ]
  },
  {
   "cell_type": "markdown",
   "metadata": {},
   "source": [
    "**5. Data Deduplication:\n",
    "\n",
    "-> Use Case: Eliminating redundant data from collections, particularly when dealing with large datasets.\n",
    "\n",
    "-> Example: Cleaning up data before processing or analysis."
   ]
  },
  {
   "cell_type": "code",
   "execution_count": 96,
   "metadata": {},
   "outputs": [],
   "source": [
    "raw_data = ['apple', 'banana', 'apple', 'orange', 'banana']\n",
    "cleaned_data = set(raw_data)  # Output: {'apple', 'banana', 'orange'}"
   ]
  },
  {
   "cell_type": "markdown",
   "metadata": {},
   "source": [
    "### Summary\n",
    "Tuples are ideal for:\n",
    "\n",
    "-> Immutable collections where data integrity is important.\n",
    "\n",
    "-> Using as dictionary keys or in data structures requiring immutability.\n",
    "\n",
    "-> Returning multiple values from functions.\n",
    "\n",
    "-> Unpacking data into separate variables.\n",
    "\n",
    "\n",
    "Sets are ideal for:\n",
    "\n",
    "-> Ensuring uniqueness and removing duplicates.\n",
    "\n",
    "-> Performing fast membership tests and set operations.\n",
    "\n",
    "-> Deduplicating and filtering data efficiently.\n",
    "\n",
    "Each data structure provides unique benefits and is chosen based on the specific requirements of the task at hand."
   ]
  },
  {
   "cell_type": "markdown",
   "metadata": {},
   "source": [
    "## Question No.7 Describe how to add, modify, and delete items in a dictionary with examples.\n",
    "Dictionaries in Python are versatile data structures that store key-value pairs. Here’s a detailed guide on how to add, modify, and delete items in a dictionary with examples:\n",
    "\n",
    "Adding Items\n",
    "\n",
    "To add items to a dictionary, you simply assign a value to a new or existing key.\n",
    "\n",
    "Example:"
   ]
  },
  {
   "cell_type": "code",
   "execution_count": 97,
   "metadata": {},
   "outputs": [
    {
     "name": "stdout",
     "output_type": "stream",
     "text": [
      "{'name': 'Alice', 'age': 25, 'city': 'New York'}\n",
      "{'name': 'Alice', 'age': 25, 'city': 'New York', 'job': 'Engineer'}\n"
     ]
    }
   ],
   "source": [
    "# Creating a dictionary\n",
    "person = {'name': 'Alice', 'age': 25}\n",
    "\n",
    "# Adding a new key-value pair\n",
    "person['city'] = 'New York'\n",
    "\n",
    "print(person)  # Output: {'name': 'Alice', 'age': 25, 'city': 'New York'}\n",
    "\n",
    "# Adding another key-value pair\n",
    "person['job'] = 'Engineer'\n",
    "\n",
    "print(person)  # Output: {'name': 'Alice', 'age': 25, 'city': 'New York', 'job': 'Engineer'}"
   ]
  },
  {
   "cell_type": "markdown",
   "metadata": {},
   "source": [
    "Modifying Items\n",
    "\n",
    "To modify an existing item in a dictionary, access it by its key and assign a new value.\n",
    "\n",
    "Example:"
   ]
  },
  {
   "cell_type": "code",
   "execution_count": 98,
   "metadata": {},
   "outputs": [
    {
     "name": "stdout",
     "output_type": "stream",
     "text": [
      "{'name': 'Alice', 'age': 26, 'city': 'New York'}\n",
      "{'name': 'Alice', 'age': 26, 'city': 'San Francisco'}\n"
     ]
    }
   ],
   "source": [
    "# Creating a dictionary\n",
    "person = {'name': 'Alice', 'age': 25, 'city': 'New York'}\n",
    "\n",
    "# Modifying an existing value\n",
    "person['age'] = 26\n",
    "\n",
    "print(person)  # Output: {'name': 'Alice', 'age': 26, 'city': 'New York'}\n",
    "\n",
    "# Modifying another value\n",
    "person['city'] = 'San Francisco'\n",
    "\n",
    "print(person)  # Output: {'name': 'Alice', 'age': 26, 'city': 'San Francisco'}"
   ]
  },
  {
   "cell_type": "markdown",
   "metadata": {},
   "source": [
    "Deleting Items\n",
    "\n",
    "There are several ways to delete items from a dictionary:\n",
    "\n",
    "1. Using del Statement:\n",
    "\n",
    " Removes a key-value pair by specifying the key. If the key does not exist, it raises a KeyError.\n",
    "\n",
    "Example:"
   ]
  },
  {
   "cell_type": "code",
   "execution_count": 99,
   "metadata": {},
   "outputs": [
    {
     "name": "stdout",
     "output_type": "stream",
     "text": [
      "{'name': 'Alice', 'age': 26}\n"
     ]
    }
   ],
   "source": [
    "# Creating a dictionary\n",
    "person = {'name': 'Alice', 'age': 26, 'city': 'San Francisco'}\n",
    "\n",
    "# Deleting a key-value pair\n",
    "del person['city']\n",
    "\n",
    "print(person)  # Output: {'name': 'Alice', 'age': 26}\n",
    "\n",
    "# Deleting a key that does not exist will raise a KeyError\n",
    "# del person['country']  # Uncommenting this line will raise KeyError\n"
   ]
  },
  {
   "cell_type": "markdown",
   "metadata": {},
   "source": [
    "2. Using pop() Method: \n",
    "\n",
    "Removes a key-value pair and returns the value. If the key does not exist, it raises a KeyError. You can also provide a default value to avoid the error.\n",
    "\n",
    "Example:"
   ]
  },
  {
   "cell_type": "code",
   "execution_count": 100,
   "metadata": {},
   "outputs": [
    {
     "name": "stdout",
     "output_type": "stream",
     "text": [
      "26\n",
      "{'name': 'Alice', 'city': 'San Francisco'}\n",
      "Not Found\n"
     ]
    }
   ],
   "source": [
    "# Creating a dictionary\n",
    "person = {'name': 'Alice', 'age': 26, 'city': 'San Francisco'}\n",
    "\n",
    "# Removing and returning a key-value pair\n",
    "age = person.pop('age')\n",
    "\n",
    "print(age)      # Output: 26\n",
    "print(person)   # Output: {'name': 'Alice', 'city': 'San Francisco'}\n",
    "\n",
    "# Removing a key with a default value\n",
    "country = person.pop('country', 'Not Found')\n",
    "print(country)  # Output: Not Found"
   ]
  },
  {
   "cell_type": "markdown",
   "metadata": {},
   "source": [
    "3. Using popitem() Method:\n",
    "\n",
    " Removes and returns the last inserted key-value pair as a tuple. If the dictionary is empty, it raises a KeyError.\n",
    "\n",
    "Example:"
   ]
  },
  {
   "cell_type": "code",
   "execution_count": 101,
   "metadata": {},
   "outputs": [
    {
     "name": "stdout",
     "output_type": "stream",
     "text": [
      "('city', 'San Francisco')\n",
      "{'name': 'Alice', 'age': 26}\n"
     ]
    }
   ],
   "source": [
    "# Creating a dictionary\n",
    "person = {'name': 'Alice', 'age': 26, 'city': 'San Francisco'}\n",
    "\n",
    "# Removing and returning the last key-value pair\n",
    "last_item = person.popitem()\n",
    "\n",
    "print(last_item)  # Output: ('city', 'San Francisco')\n",
    "print(person)     # Output: {'name': 'Alice', 'age': 26}\n"
   ]
  },
  {
   "cell_type": "markdown",
   "metadata": {},
   "source": [
    "4. Using clear() Method: \n",
    "\n",
    "Removes all key-value pairs from the dictionary, leaving it empty.\n",
    "\n",
    "Example:"
   ]
  },
  {
   "cell_type": "code",
   "execution_count": 102,
   "metadata": {},
   "outputs": [
    {
     "name": "stdout",
     "output_type": "stream",
     "text": [
      "{}\n"
     ]
    }
   ],
   "source": [
    "# Creating a dictionary\n",
    "person = {'name': 'Alice', 'age': 26, 'city': 'San Francisco'}\n",
    "\n",
    "# Clearing all items\n",
    "person.clear()\n",
    "\n",
    "print(person)  # Output: {}\n"
   ]
  },
  {
   "cell_type": "markdown",
   "metadata": {},
   "source": [
    "### Summary\n",
    "\n",
    "-> Adding Items: Use assignment (dictionary[key] = value) to add new key-value pairs.\n",
    "\n",
    "->  Modifying Items: Use assignment to update the value for an existing key.\n",
    "\n",
    "-> Deleting Items: Use del, pop(), popitem(), or clear() to remove items or clear the entire dictionary.\n",
    "\n",
    "Each method provides different ways to manage dictionary entries based on your needs, whether you want to handle specific key-value pairs, remove elements safely, or clear the entire dictionary."
   ]
  },
  {
   "cell_type": "markdown",
   "metadata": {},
   "source": [
    "## Question No.8  Discuss the importance of dictionary keys being immutable and provide examples.\n",
    "In Python, dictionary keys must be immutable. This immutability is crucial for maintaining the integrity and consistency of the dictionary's structure and behavior. Here’s why immutable keys are important and how it impacts dictionary operations, along with examples.\n",
    "\n",
    "### Importance of Dictionary Keys Being Immutable\n",
    "\n",
    "1. Hash Consistency:\n",
    "\n",
    "-> Reason: Dictionary keys are hashed to create a hash table that allows for fast lookups. The hash value of a key is used to determine where it is stored in the dictionary.\n",
    "\n",
    "-> Requirement: For this hash table to work correctly, the hash value of a key must remain constant throughout its lifetime. If a key were mutable and its contents could change, its hash value could also change, which would corrupt the dictionary’s internal data structure and lead to inconsistent behavior.\n",
    "\n",
    "\n",
    "2. Data Integrity:\n",
    "\n",
    "-> Reason: Ensuring that keys are immutable guarantees that once a key is used in the dictionary, its identity and the corresponding value association remain stable.\n",
    "\n",
    "->  Requirement: This immutability prevents accidental or intentional changes to the key, which could otherwise lead to data loss or corruption.\n",
    "\n",
    "3. Predictable Behavior:\n",
    "\n",
    "-> Reason: Immutable keys provide predictable and reliable behavior for dictionary operations. Since the key’s state does not change, operations like lookups, insertions, and deletions can be executed without worrying about changes in the key’s identity.\n",
    "\n",
    "Examples\n",
    "\n",
    "1. Immutable Keys: Strings, Numbers, and Tuples\n",
    "\n",
    "These are common immutable types in Python that can be used as dictionary keys."
   ]
  },
  {
   "cell_type": "code",
   "execution_count": 103,
   "metadata": {},
   "outputs": [
    {
     "name": "stdout",
     "output_type": "stream",
     "text": [
      "Alice\n",
      "two\n",
      "point1\n"
     ]
    }
   ],
   "source": [
    "# Using strings as keys\n",
    "my_dict = {'name': 'Alice', 'age': 30}\n",
    "print(my_dict['name'])  # Output: Alice\n",
    "\n",
    "# Using numbers as keys\n",
    "numbers_dict = {1: 'one', 2: 'two', 3: 'three'}\n",
    "print(numbers_dict[2])  # Output: two\n",
    "\n",
    "# Using tuples as keys\n",
    "tuple_key_dict = {(1, 2): 'point1', (3, 4): 'point2'}\n",
    "print(tuple_key_dict[(1, 2)])  # Output: point1"
   ]
  },
  {
   "cell_type": "markdown",
   "metadata": {},
   "source": [
    "2. Mutable Keys: Lists and Dictionaries\n",
    "\n",
    "These cannot be used as dictionary keys because they are mutable and their hash values can change if their contents are modified."
   ]
  },
  {
   "cell_type": "code",
   "execution_count": 104,
   "metadata": {},
   "outputs": [
    {
     "name": "stdout",
     "output_type": "stream",
     "text": [
      "unhashable type: 'list'\n",
      "unhashable type: 'dict'\n"
     ]
    }
   ],
   "source": [
    "# Attempting to use a list as a key will raise a TypeError\n",
    "try:\n",
    "    bad_dict = {[1, 2]: 'value'}  # Raises TypeError\n",
    "except TypeError as e:\n",
    "    print(e)  # Output: unhashable type: 'list'\n",
    "\n",
    "# Attempting to use a dictionary as a key will also raise a TypeError\n",
    "try:\n",
    "    another_bad_dict = {{'a': 1}: 'value'}  # Raises TypeError\n",
    "except TypeError as e:\n",
    "    print(e)  # Output: unhashable type: 'dict'\n"
   ]
  },
  {
   "cell_type": "markdown",
   "metadata": {},
   "source": [
    "3. Custom Objects as Keys\n",
    "\n",
    "To use custom objects as keys, you must ensure that the objects are immutable. This typically involves defining __hash__() and __eq__() methods to maintain consistency."
   ]
  },
  {
   "cell_type": "code",
   "execution_count": 105,
   "metadata": {},
   "outputs": [
    {
     "name": "stdout",
     "output_type": "stream",
     "text": [
      "value1\n"
     ]
    }
   ],
   "source": [
    "class ImmutableKey:\n",
    "    def __init__(self, value):\n",
    "        self.value = value\n",
    "    \n",
    "    def __hash__(self):\n",
    "        return hash(self.value)\n",
    "    \n",
    "    def __eq__(self, other):\n",
    "        return isinstance(other, ImmutableKey) and self.value == other.value\n",
    "\n",
    "# Using custom immutable objects as keys\n",
    "immutable_key_dict = {ImmutableKey('key1'): 'value1'}\n",
    "print(immutable_key_dict[ImmutableKey('key1')])  # Output: value1\n"
   ]
  },
  {
   "cell_type": "markdown",
   "metadata": {},
   "source": [
    "### Summary\n",
    "\n",
    "The immutability of dictionary keys is crucial for:\n",
    "\n",
    "-> Hash Consistency: Ensures that the hash value of a key remains constant.\n",
    "\n",
    "-> Data Integrity: Prevents accidental or intentional changes to the key.\n",
    "\n",
    "-> Predictable Behavior: Guarantees reliable dictionary operations.\n",
    "\n",
    "\n",
    "By adhering to the requirement that dictionary keys must be immutable, Python dictionaries can efficiently manage and access data while preserving the integrity of the data structure."
   ]
  }
 ],
 "metadata": {
  "kernelspec": {
   "display_name": "Python 3",
   "language": "python",
   "name": "python3"
  },
  "language_info": {
   "codemirror_mode": {
    "name": "ipython",
    "version": 3
   },
   "file_extension": ".py",
   "mimetype": "text/x-python",
   "name": "python",
   "nbconvert_exporter": "python",
   "pygments_lexer": "ipython3",
   "version": "3.12.5"
  }
 },
 "nbformat": 4,
 "nbformat_minor": 2
}
